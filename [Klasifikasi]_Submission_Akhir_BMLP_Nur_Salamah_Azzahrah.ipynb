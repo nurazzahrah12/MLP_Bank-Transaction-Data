{
  "nbformat": 4,
  "nbformat_minor": 0,
  "metadata": {
    "colab": {
      "provenance": []
    },
    "kernelspec": {
      "name": "python3",
      "display_name": "Python 3"
    },
    "language_info": {
      "name": "python"
    }
  },
  "cells": [
    {
      "cell_type": "markdown",
      "source": [
        "# **Penting**\n",
        "- Pastikan Anda melakukan Run All sebelum mengirimkan submission untuk memastikan seluruh cell berjalan dengan baik.\n",
        "- Hapus simbol pagar (#) jika Anda menerapkan kriteria tambahan\n",
        "- Biarkan simbol pagar (#) jika Anda tidak menerapkan kriteria tambahan"
      ],
      "metadata": {
        "id": "0tvAKGat01Sd"
      }
    },
    {
      "cell_type": "markdown",
      "source": [
        "# **1. Import Library**\n",
        "Pada tahap ini, Anda perlu mengimpor beberapa pustaka (library) Python yang dibutuhkan untuk analisis data dan pembangunan model machine learning."
      ],
      "metadata": {
        "id": "fKADPWcFKlj3"
      }
    },
    {
      "cell_type": "code",
      "source": [
        "# Import library dasar\n",
        "import pandas as pd\n",
        "import numpy as np\n",
        "import matplotlib.pyplot as plt\n",
        "import seaborn as sns\n",
        "\n",
        "# Import library untuk preprocessing\n",
        "from sklearn.preprocessing import StandardScaler, LabelEncoder\n",
        "from sklearn.model_selection import train_test_split, cross_val_score, GridSearchCV\n",
        "from sklearn.pipeline import Pipeline\n",
        "\n",
        "# Import library untuk evaluasi model\n",
        "from sklearn.metrics import accuracy_score, classification_report, confusion_matrix, f1_score, precision_score, recall_score\n",
        "\n",
        "# Import algoritma klasifikasi\n",
        "from sklearn.tree import DecisionTreeClassifier\n",
        "from sklearn.ensemble import RandomForestClassifier\n",
        "\n",
        "import joblib\n",
        "import warnings\n",
        "warnings.filterwarnings('ignore')"
      ],
      "metadata": {
        "id": "BlmvjLY9M4Yj"
      },
      "execution_count": 1,
      "outputs": []
    },
    {
      "cell_type": "markdown",
      "source": [
        "# **2. Memuat Dataset dari Hasil Clustering**\n",
        "Memuat dataset hasil clustering dari file CSV ke dalam variabel DataFrame."
      ],
      "metadata": {
        "id": "f3YIEnAFKrKL"
      }
    },
    {
      "cell_type": "code",
      "source": [
        "# Gunakan dataset hasil clustering yang memiliki fitur Target\n",
        "# Silakan gunakan dataset data_clustering jika tidak menerapkan Interpretasi Hasil Clustering [Advanced]\n",
        "# Silakan gunakan dataset data_clustering_inverse jika menerapkan Interpretasi Hasil Clustering [Advanced]\n",
        "df = pd.read_csv(\"data_clustering_inverse.csv\")"
      ],
      "metadata": {
        "id": "GHCGNTyrM5fS"
      },
      "execution_count": 2,
      "outputs": []
    },
    {
      "cell_type": "code",
      "source": [
        "# Tampilkan 5 baris pertama dengan function head.\n",
        "df.head()"
      ],
      "metadata": {
        "id": "bCsep0NZ0LUf",
        "colab": {
          "base_uri": "https://localhost:8080/",
          "height": 256
        },
        "outputId": "e5c09aa0-4a65-46fc-bf3b-f94ddb955eb9"
      },
      "execution_count": 3,
      "outputs": [
        {
          "output_type": "execute_result",
          "data": {
            "text/plain": [
              "   TransactionAmount  CustomerAge  TransactionDuration  LoginAttempts  \\\n",
              "0              14.09    70.000000                 81.0            1.0   \n",
              "1             376.24    68.000000                141.0            1.0   \n",
              "2             126.29    19.000000                 56.0            1.0   \n",
              "3             184.50    26.000000                 25.0            1.0   \n",
              "4              13.45    44.644916                198.0            1.0   \n",
              "\n",
              "   AccountBalance  TransactionHour  TransactionDay  TimeSinceLastTransaction  \\\n",
              "0         5112.21             16.0            11.0             -13743.648333   \n",
              "1        13758.91             16.0            27.0             -11895.421111   \n",
              "2         1122.35             18.0            10.0             -11581.848889   \n",
              "3         8569.06             16.0             5.0             -13167.615278   \n",
              "4         7429.40             17.0            16.0              -9230.254167   \n",
              "\n",
              "   TransactionType_Credit  TransactionType_Debit  ...  Channel_Online  \\\n",
              "0                       0                      1  ...               0   \n",
              "1                       0                      1  ...               0   \n",
              "2                       0                      1  ...               1   \n",
              "3                       0                      1  ...               1   \n",
              "4                       1                      0  ...               1   \n",
              "\n",
              "   CustomerOccupation_Doctor  CustomerOccupation_Engineer  \\\n",
              "0                          1                            0   \n",
              "1                          1                            0   \n",
              "2                          0                            0   \n",
              "3                          0                            0   \n",
              "4                          0                            0   \n",
              "\n",
              "   CustomerOccupation_Retired  CustomerOccupation_Student  CustomerAgeGroup  \\\n",
              "0                           0                           0            Senior   \n",
              "1                           0                           0            Senior   \n",
              "2                           0                           1             Youth   \n",
              "3                           0                           1             Adult   \n",
              "4                           0                           1             Adult   \n",
              "\n",
              "   TransactionAmountGroup CustomerAgeGroup_enc TransactionAmountGroup_enc  \\\n",
              "0                  Medium                    2                          2   \n",
              "1                    High                    2                          0   \n",
              "2                    High                    3                          0   \n",
              "3                    High                    0                          0   \n",
              "4                  Medium                    0                          2   \n",
              "\n",
              "   Target  \n",
              "0       1  \n",
              "1       4  \n",
              "2       2  \n",
              "3       3  \n",
              "4       3  \n",
              "\n",
              "[5 rows x 22 columns]"
            ],
            "text/html": [
              "\n",
              "  <div id=\"df-ad30c115-7e10-42d9-9c07-b0123622691f\" class=\"colab-df-container\">\n",
              "    <div>\n",
              "<style scoped>\n",
              "    .dataframe tbody tr th:only-of-type {\n",
              "        vertical-align: middle;\n",
              "    }\n",
              "\n",
              "    .dataframe tbody tr th {\n",
              "        vertical-align: top;\n",
              "    }\n",
              "\n",
              "    .dataframe thead th {\n",
              "        text-align: right;\n",
              "    }\n",
              "</style>\n",
              "<table border=\"1\" class=\"dataframe\">\n",
              "  <thead>\n",
              "    <tr style=\"text-align: right;\">\n",
              "      <th></th>\n",
              "      <th>TransactionAmount</th>\n",
              "      <th>CustomerAge</th>\n",
              "      <th>TransactionDuration</th>\n",
              "      <th>LoginAttempts</th>\n",
              "      <th>AccountBalance</th>\n",
              "      <th>TransactionHour</th>\n",
              "      <th>TransactionDay</th>\n",
              "      <th>TimeSinceLastTransaction</th>\n",
              "      <th>TransactionType_Credit</th>\n",
              "      <th>TransactionType_Debit</th>\n",
              "      <th>...</th>\n",
              "      <th>Channel_Online</th>\n",
              "      <th>CustomerOccupation_Doctor</th>\n",
              "      <th>CustomerOccupation_Engineer</th>\n",
              "      <th>CustomerOccupation_Retired</th>\n",
              "      <th>CustomerOccupation_Student</th>\n",
              "      <th>CustomerAgeGroup</th>\n",
              "      <th>TransactionAmountGroup</th>\n",
              "      <th>CustomerAgeGroup_enc</th>\n",
              "      <th>TransactionAmountGroup_enc</th>\n",
              "      <th>Target</th>\n",
              "    </tr>\n",
              "  </thead>\n",
              "  <tbody>\n",
              "    <tr>\n",
              "      <th>0</th>\n",
              "      <td>14.09</td>\n",
              "      <td>70.000000</td>\n",
              "      <td>81.0</td>\n",
              "      <td>1.0</td>\n",
              "      <td>5112.21</td>\n",
              "      <td>16.0</td>\n",
              "      <td>11.0</td>\n",
              "      <td>-13743.648333</td>\n",
              "      <td>0</td>\n",
              "      <td>1</td>\n",
              "      <td>...</td>\n",
              "      <td>0</td>\n",
              "      <td>1</td>\n",
              "      <td>0</td>\n",
              "      <td>0</td>\n",
              "      <td>0</td>\n",
              "      <td>Senior</td>\n",
              "      <td>Medium</td>\n",
              "      <td>2</td>\n",
              "      <td>2</td>\n",
              "      <td>1</td>\n",
              "    </tr>\n",
              "    <tr>\n",
              "      <th>1</th>\n",
              "      <td>376.24</td>\n",
              "      <td>68.000000</td>\n",
              "      <td>141.0</td>\n",
              "      <td>1.0</td>\n",
              "      <td>13758.91</td>\n",
              "      <td>16.0</td>\n",
              "      <td>27.0</td>\n",
              "      <td>-11895.421111</td>\n",
              "      <td>0</td>\n",
              "      <td>1</td>\n",
              "      <td>...</td>\n",
              "      <td>0</td>\n",
              "      <td>1</td>\n",
              "      <td>0</td>\n",
              "      <td>0</td>\n",
              "      <td>0</td>\n",
              "      <td>Senior</td>\n",
              "      <td>High</td>\n",
              "      <td>2</td>\n",
              "      <td>0</td>\n",
              "      <td>4</td>\n",
              "    </tr>\n",
              "    <tr>\n",
              "      <th>2</th>\n",
              "      <td>126.29</td>\n",
              "      <td>19.000000</td>\n",
              "      <td>56.0</td>\n",
              "      <td>1.0</td>\n",
              "      <td>1122.35</td>\n",
              "      <td>18.0</td>\n",
              "      <td>10.0</td>\n",
              "      <td>-11581.848889</td>\n",
              "      <td>0</td>\n",
              "      <td>1</td>\n",
              "      <td>...</td>\n",
              "      <td>1</td>\n",
              "      <td>0</td>\n",
              "      <td>0</td>\n",
              "      <td>0</td>\n",
              "      <td>1</td>\n",
              "      <td>Youth</td>\n",
              "      <td>High</td>\n",
              "      <td>3</td>\n",
              "      <td>0</td>\n",
              "      <td>2</td>\n",
              "    </tr>\n",
              "    <tr>\n",
              "      <th>3</th>\n",
              "      <td>184.50</td>\n",
              "      <td>26.000000</td>\n",
              "      <td>25.0</td>\n",
              "      <td>1.0</td>\n",
              "      <td>8569.06</td>\n",
              "      <td>16.0</td>\n",
              "      <td>5.0</td>\n",
              "      <td>-13167.615278</td>\n",
              "      <td>0</td>\n",
              "      <td>1</td>\n",
              "      <td>...</td>\n",
              "      <td>1</td>\n",
              "      <td>0</td>\n",
              "      <td>0</td>\n",
              "      <td>0</td>\n",
              "      <td>1</td>\n",
              "      <td>Adult</td>\n",
              "      <td>High</td>\n",
              "      <td>0</td>\n",
              "      <td>0</td>\n",
              "      <td>3</td>\n",
              "    </tr>\n",
              "    <tr>\n",
              "      <th>4</th>\n",
              "      <td>13.45</td>\n",
              "      <td>44.644916</td>\n",
              "      <td>198.0</td>\n",
              "      <td>1.0</td>\n",
              "      <td>7429.40</td>\n",
              "      <td>17.0</td>\n",
              "      <td>16.0</td>\n",
              "      <td>-9230.254167</td>\n",
              "      <td>1</td>\n",
              "      <td>0</td>\n",
              "      <td>...</td>\n",
              "      <td>1</td>\n",
              "      <td>0</td>\n",
              "      <td>0</td>\n",
              "      <td>0</td>\n",
              "      <td>1</td>\n",
              "      <td>Adult</td>\n",
              "      <td>Medium</td>\n",
              "      <td>0</td>\n",
              "      <td>2</td>\n",
              "      <td>3</td>\n",
              "    </tr>\n",
              "  </tbody>\n",
              "</table>\n",
              "<p>5 rows × 22 columns</p>\n",
              "</div>\n",
              "    <div class=\"colab-df-buttons\">\n",
              "\n",
              "  <div class=\"colab-df-container\">\n",
              "    <button class=\"colab-df-convert\" onclick=\"convertToInteractive('df-ad30c115-7e10-42d9-9c07-b0123622691f')\"\n",
              "            title=\"Convert this dataframe to an interactive table.\"\n",
              "            style=\"display:none;\">\n",
              "\n",
              "  <svg xmlns=\"http://www.w3.org/2000/svg\" height=\"24px\" viewBox=\"0 -960 960 960\">\n",
              "    <path d=\"M120-120v-720h720v720H120Zm60-500h600v-160H180v160Zm220 220h160v-160H400v160Zm0 220h160v-160H400v160ZM180-400h160v-160H180v160Zm440 0h160v-160H620v160ZM180-180h160v-160H180v160Zm440 0h160v-160H620v160Z\"/>\n",
              "  </svg>\n",
              "    </button>\n",
              "\n",
              "  <style>\n",
              "    .colab-df-container {\n",
              "      display:flex;\n",
              "      gap: 12px;\n",
              "    }\n",
              "\n",
              "    .colab-df-convert {\n",
              "      background-color: #E8F0FE;\n",
              "      border: none;\n",
              "      border-radius: 50%;\n",
              "      cursor: pointer;\n",
              "      display: none;\n",
              "      fill: #1967D2;\n",
              "      height: 32px;\n",
              "      padding: 0 0 0 0;\n",
              "      width: 32px;\n",
              "    }\n",
              "\n",
              "    .colab-df-convert:hover {\n",
              "      background-color: #E2EBFA;\n",
              "      box-shadow: 0px 1px 2px rgba(60, 64, 67, 0.3), 0px 1px 3px 1px rgba(60, 64, 67, 0.15);\n",
              "      fill: #174EA6;\n",
              "    }\n",
              "\n",
              "    .colab-df-buttons div {\n",
              "      margin-bottom: 4px;\n",
              "    }\n",
              "\n",
              "    [theme=dark] .colab-df-convert {\n",
              "      background-color: #3B4455;\n",
              "      fill: #D2E3FC;\n",
              "    }\n",
              "\n",
              "    [theme=dark] .colab-df-convert:hover {\n",
              "      background-color: #434B5C;\n",
              "      box-shadow: 0px 1px 3px 1px rgba(0, 0, 0, 0.15);\n",
              "      filter: drop-shadow(0px 1px 2px rgba(0, 0, 0, 0.3));\n",
              "      fill: #FFFFFF;\n",
              "    }\n",
              "  </style>\n",
              "\n",
              "    <script>\n",
              "      const buttonEl =\n",
              "        document.querySelector('#df-ad30c115-7e10-42d9-9c07-b0123622691f button.colab-df-convert');\n",
              "      buttonEl.style.display =\n",
              "        google.colab.kernel.accessAllowed ? 'block' : 'none';\n",
              "\n",
              "      async function convertToInteractive(key) {\n",
              "        const element = document.querySelector('#df-ad30c115-7e10-42d9-9c07-b0123622691f');\n",
              "        const dataTable =\n",
              "          await google.colab.kernel.invokeFunction('convertToInteractive',\n",
              "                                                    [key], {});\n",
              "        if (!dataTable) return;\n",
              "\n",
              "        const docLinkHtml = 'Like what you see? Visit the ' +\n",
              "          '<a target=\"_blank\" href=https://colab.research.google.com/notebooks/data_table.ipynb>data table notebook</a>'\n",
              "          + ' to learn more about interactive tables.';\n",
              "        element.innerHTML = '';\n",
              "        dataTable['output_type'] = 'display_data';\n",
              "        await google.colab.output.renderOutput(dataTable, element);\n",
              "        const docLink = document.createElement('div');\n",
              "        docLink.innerHTML = docLinkHtml;\n",
              "        element.appendChild(docLink);\n",
              "      }\n",
              "    </script>\n",
              "  </div>\n",
              "\n",
              "\n",
              "    <div id=\"df-7208e01c-e896-4a2f-980d-ff772a86e822\">\n",
              "      <button class=\"colab-df-quickchart\" onclick=\"quickchart('df-7208e01c-e896-4a2f-980d-ff772a86e822')\"\n",
              "                title=\"Suggest charts\"\n",
              "                style=\"display:none;\">\n",
              "\n",
              "<svg xmlns=\"http://www.w3.org/2000/svg\" height=\"24px\"viewBox=\"0 0 24 24\"\n",
              "     width=\"24px\">\n",
              "    <g>\n",
              "        <path d=\"M19 3H5c-1.1 0-2 .9-2 2v14c0 1.1.9 2 2 2h14c1.1 0 2-.9 2-2V5c0-1.1-.9-2-2-2zM9 17H7v-7h2v7zm4 0h-2V7h2v10zm4 0h-2v-4h2v4z\"/>\n",
              "    </g>\n",
              "</svg>\n",
              "      </button>\n",
              "\n",
              "<style>\n",
              "  .colab-df-quickchart {\n",
              "      --bg-color: #E8F0FE;\n",
              "      --fill-color: #1967D2;\n",
              "      --hover-bg-color: #E2EBFA;\n",
              "      --hover-fill-color: #174EA6;\n",
              "      --disabled-fill-color: #AAA;\n",
              "      --disabled-bg-color: #DDD;\n",
              "  }\n",
              "\n",
              "  [theme=dark] .colab-df-quickchart {\n",
              "      --bg-color: #3B4455;\n",
              "      --fill-color: #D2E3FC;\n",
              "      --hover-bg-color: #434B5C;\n",
              "      --hover-fill-color: #FFFFFF;\n",
              "      --disabled-bg-color: #3B4455;\n",
              "      --disabled-fill-color: #666;\n",
              "  }\n",
              "\n",
              "  .colab-df-quickchart {\n",
              "    background-color: var(--bg-color);\n",
              "    border: none;\n",
              "    border-radius: 50%;\n",
              "    cursor: pointer;\n",
              "    display: none;\n",
              "    fill: var(--fill-color);\n",
              "    height: 32px;\n",
              "    padding: 0;\n",
              "    width: 32px;\n",
              "  }\n",
              "\n",
              "  .colab-df-quickchart:hover {\n",
              "    background-color: var(--hover-bg-color);\n",
              "    box-shadow: 0 1px 2px rgba(60, 64, 67, 0.3), 0 1px 3px 1px rgba(60, 64, 67, 0.15);\n",
              "    fill: var(--button-hover-fill-color);\n",
              "  }\n",
              "\n",
              "  .colab-df-quickchart-complete:disabled,\n",
              "  .colab-df-quickchart-complete:disabled:hover {\n",
              "    background-color: var(--disabled-bg-color);\n",
              "    fill: var(--disabled-fill-color);\n",
              "    box-shadow: none;\n",
              "  }\n",
              "\n",
              "  .colab-df-spinner {\n",
              "    border: 2px solid var(--fill-color);\n",
              "    border-color: transparent;\n",
              "    border-bottom-color: var(--fill-color);\n",
              "    animation:\n",
              "      spin 1s steps(1) infinite;\n",
              "  }\n",
              "\n",
              "  @keyframes spin {\n",
              "    0% {\n",
              "      border-color: transparent;\n",
              "      border-bottom-color: var(--fill-color);\n",
              "      border-left-color: var(--fill-color);\n",
              "    }\n",
              "    20% {\n",
              "      border-color: transparent;\n",
              "      border-left-color: var(--fill-color);\n",
              "      border-top-color: var(--fill-color);\n",
              "    }\n",
              "    30% {\n",
              "      border-color: transparent;\n",
              "      border-left-color: var(--fill-color);\n",
              "      border-top-color: var(--fill-color);\n",
              "      border-right-color: var(--fill-color);\n",
              "    }\n",
              "    40% {\n",
              "      border-color: transparent;\n",
              "      border-right-color: var(--fill-color);\n",
              "      border-top-color: var(--fill-color);\n",
              "    }\n",
              "    60% {\n",
              "      border-color: transparent;\n",
              "      border-right-color: var(--fill-color);\n",
              "    }\n",
              "    80% {\n",
              "      border-color: transparent;\n",
              "      border-right-color: var(--fill-color);\n",
              "      border-bottom-color: var(--fill-color);\n",
              "    }\n",
              "    90% {\n",
              "      border-color: transparent;\n",
              "      border-bottom-color: var(--fill-color);\n",
              "    }\n",
              "  }\n",
              "</style>\n",
              "\n",
              "      <script>\n",
              "        async function quickchart(key) {\n",
              "          const quickchartButtonEl =\n",
              "            document.querySelector('#' + key + ' button');\n",
              "          quickchartButtonEl.disabled = true;  // To prevent multiple clicks.\n",
              "          quickchartButtonEl.classList.add('colab-df-spinner');\n",
              "          try {\n",
              "            const charts = await google.colab.kernel.invokeFunction(\n",
              "                'suggestCharts', [key], {});\n",
              "          } catch (error) {\n",
              "            console.error('Error during call to suggestCharts:', error);\n",
              "          }\n",
              "          quickchartButtonEl.classList.remove('colab-df-spinner');\n",
              "          quickchartButtonEl.classList.add('colab-df-quickchart-complete');\n",
              "        }\n",
              "        (() => {\n",
              "          let quickchartButtonEl =\n",
              "            document.querySelector('#df-7208e01c-e896-4a2f-980d-ff772a86e822 button');\n",
              "          quickchartButtonEl.style.display =\n",
              "            google.colab.kernel.accessAllowed ? 'block' : 'none';\n",
              "        })();\n",
              "      </script>\n",
              "    </div>\n",
              "\n",
              "    </div>\n",
              "  </div>\n"
            ],
            "application/vnd.google.colaboratory.intrinsic+json": {
              "type": "dataframe",
              "variable_name": "df"
            }
          },
          "metadata": {},
          "execution_count": 3
        }
      ]
    },
    {
      "cell_type": "markdown",
      "source": [
        "# **3. Data Splitting**\n",
        "Tahap Data Splitting bertujuan untuk memisahkan dataset menjadi dua bagian: data latih (training set) dan data uji (test set)."
      ],
      "metadata": {
        "id": "KkPem5eWL2UP"
      }
    },
    {
      "cell_type": "code",
      "source": [
        "# Menggunakan train_test_split() untuk melakukan pembagian dataset.\n",
        "\n",
        "# Pisahkan fitur dan target\n",
        "X = df.drop(columns=['Target'])\n",
        "y = df['Target']\n",
        "\n",
        "# Lakukan pembagian data train dan test (80% train, 20% test)\n",
        "X_train, X_test, y_train, y_test = train_test_split(X, y, test_size=0.2, random_state=42, stratify=y)\n",
        "\n",
        "# Tampilkan bentuk data\n",
        "print(f\"X_train shape: {X_train.shape}\")\n",
        "print(f\"X_test shape: {X_test.shape}\")\n",
        "print(f\"y_train distribusi:\\n{y_train.value_counts(normalize=True)}\")\n",
        "print(f\"y_test distribusi:\\n{y_test.value_counts(normalize=True)}\")"
      ],
      "metadata": {
        "id": "OubAW-7ONKVj",
        "colab": {
          "base_uri": "https://localhost:8080/"
        },
        "outputId": "9f797ee7-f7b0-4407-8a25-fc82ee7e0d59"
      },
      "execution_count": 4,
      "outputs": [
        {
          "output_type": "stream",
          "name": "stdout",
          "text": [
            "X_train shape: (2012, 21)\n",
            "X_test shape: (504, 21)\n",
            "y_train distribusi:\n",
            "Target\n",
            "1    0.312127\n",
            "3    0.281809\n",
            "4    0.217694\n",
            "2    0.188370\n",
            "Name: proportion, dtype: float64\n",
            "y_test distribusi:\n",
            "Target\n",
            "1    0.311508\n",
            "3    0.281746\n",
            "4    0.218254\n",
            "2    0.188492\n",
            "Name: proportion, dtype: float64\n"
          ]
        }
      ]
    },
    {
      "cell_type": "markdown",
      "source": [
        "# **4. Membangun Model Klasifikasi**\n",
        "Setelah memilih algoritma klasifikasi yang sesuai, langkah selanjutnya adalah melatih model menggunakan data latih.\n",
        "\n",
        "Berikut adalah rekomendasi tahapannya.\n",
        "1. Menggunakan algoritma klasifikasi yaitu Decision Tree.\n",
        "2. Latih model menggunakan data yang sudah dipisah."
      ],
      "metadata": {
        "id": "IVPbB03CMhTT"
      }
    },
    {
      "cell_type": "code",
      "source": [
        "df.columns"
      ],
      "metadata": {
        "colab": {
          "base_uri": "https://localhost:8080/"
        },
        "id": "TImYcd469qoN",
        "outputId": "b0d55369-9707-4748-ff0f-ea50cd3c4cae"
      },
      "execution_count": 5,
      "outputs": [
        {
          "output_type": "execute_result",
          "data": {
            "text/plain": [
              "Index(['TransactionAmount', 'CustomerAge', 'TransactionDuration',\n",
              "       'LoginAttempts', 'AccountBalance', 'TransactionHour', 'TransactionDay',\n",
              "       'TimeSinceLastTransaction', 'TransactionType_Credit',\n",
              "       'TransactionType_Debit', 'Channel_ATM', 'Channel_Branch',\n",
              "       'Channel_Online', 'CustomerOccupation_Doctor',\n",
              "       'CustomerOccupation_Engineer', 'CustomerOccupation_Retired',\n",
              "       'CustomerOccupation_Student', 'CustomerAgeGroup',\n",
              "       'TransactionAmountGroup', 'CustomerAgeGroup_enc',\n",
              "       'TransactionAmountGroup_enc', 'Target'],\n",
              "      dtype='object')"
            ]
          },
          "metadata": {},
          "execution_count": 5
        }
      ]
    },
    {
      "cell_type": "code",
      "source": [
        "# Buatlah model klasifikasi menggunakan Decision Tree\n",
        "\n",
        "# Drop kolom kategori string hasil binning yang tidak dipakai langsung\n",
        "df_ready =df.drop(columns=['CustomerAgeGroup', 'TransactionAmountGroup'])\n",
        "\n",
        "# Fitur X (semua kolom kecuali target)\n",
        "X = df_ready.drop(columns=['Target'])\n",
        "\n",
        "# Target y\n",
        "y = df_ready['Target']"
      ],
      "metadata": {
        "id": "ru9wg5yTD3kR"
      },
      "execution_count": 6,
      "outputs": []
    },
    {
      "cell_type": "code",
      "source": [
        "# Split data train-test, stratify supaya distribusi kelas sama\n",
        "X_train, X_test, y_train, y_test = train_test_split(\n",
        "    X, y, test_size=0.2, random_state=42, stratify=y\n",
        ")\n",
        "\n",
        "# Cek kolom kategorikal tersisa yang masih string (object)\n",
        "cat_cols = X_train.select_dtypes(include=['object']).columns.tolist()\n",
        "\n",
        "# Lakukan Label Encoding pada kolom kategorikal\n",
        "for col in cat_cols:\n",
        "    le = LabelEncoder()\n",
        "    X_train[col] = le.fit_transform(X_train[col].astype(str))\n",
        "    X_test[col] = le.transform(X_test[col].astype(str))\n",
        "\n",
        "# Pilih kolom numerik untuk scaling\n",
        "num_cols = X_train.select_dtypes(include=['float64', 'int64']).columns.tolist()\n",
        "\n",
        "# Scaling fitur numerik (optional untuk Decision Tree)\n",
        "scaler = StandardScaler()\n",
        "X_train[num_cols] = scaler.fit_transform(X_train[num_cols])\n",
        "X_test[num_cols] = scaler.transform(X_test[num_cols])\n",
        "\n",
        "# Inisialisasi dan latih model Decision Tree\n",
        "dt_model = DecisionTreeClassifier(random_state=42)\n",
        "dt_model.fit(X_train, y_train)\n",
        "\n",
        "# Prediksi dan evaluasi\n",
        "y_pred = dt_model.predict(X_test)\n",
        "\n",
        "print(f\"Akurasi: {accuracy_score(y_test, y_pred):.4f}\")\n",
        "print(f\"Presisi: {precision_score(y_test, y_pred, average='weighted'):.4f}\")\n",
        "print(f\"Recall: {recall_score(y_test, y_pred, average='weighted'):.4f}\")\n",
        "print(f\"F1-Score: {f1_score(y_test, y_pred, average='weighted'):.4f}\")\n",
        "\n",
        "print(\"\\nClassification Report:\")\n",
        "print(classification_report(y_test, y_pred))\n",
        "\n",
        "# Visualisasi Confusion Matrix\n",
        "conf_mat = confusion_matrix(y_test, y_pred)\n",
        "plt.figure(figsize=(6,6))\n",
        "sns.heatmap(conf_mat, annot=True, fmt='d', cmap='Blues',\n",
        "            xticklabels=dt_model.classes_, yticklabels=dt_model.classes_)\n",
        "plt.xlabel('Prediksi')\n",
        "plt.ylabel('Aktual')\n",
        "plt.title('Confusion Matrix - Decision Tree')\n",
        "plt.show()"
      ],
      "metadata": {
        "colab": {
          "base_uri": "https://localhost:8080/",
          "height": 859
        },
        "id": "5wHR80NaA4cF",
        "outputId": "14e59261-6345-4b32-f880-82706b1e99ff"
      },
      "execution_count": 7,
      "outputs": [
        {
          "output_type": "stream",
          "name": "stdout",
          "text": [
            "Akurasi: 0.9722\n",
            "Presisi: 0.9725\n",
            "Recall: 0.9722\n",
            "F1-Score: 0.9722\n",
            "\n",
            "Classification Report:\n",
            "              precision    recall  f1-score   support\n",
            "\n",
            "           1       0.95      0.98      0.97       157\n",
            "           2       1.00      1.00      1.00        95\n",
            "           3       0.97      0.96      0.97       142\n",
            "           4       0.98      0.95      0.96       110\n",
            "\n",
            "    accuracy                           0.97       504\n",
            "   macro avg       0.98      0.97      0.97       504\n",
            "weighted avg       0.97      0.97      0.97       504\n",
            "\n"
          ]
        },
        {
          "output_type": "display_data",
          "data": {
            "text/plain": [
              "<Figure size 600x600 with 2 Axes>"
            ],
            "image/png": "[encoded data removed]"
          },
          "metadata": {}
        }
      ]
    },
    {
      "cell_type": "code",
      "source": [
        "# Menyimpan Model\n",
        "# import joblib\n",
        "# joblib.dump(model, 'decision_tree_model.h5')\n",
        "joblib.dump(dt_model, 'decision_tree_model.h5')"
      ],
      "metadata": {
        "id": "P_AakAxghYv-",
        "colab": {
          "base_uri": "https://localhost:8080/"
        },
        "outputId": "bd994e85-630d-4639-c3e7-b853b0fd625b"
      },
      "execution_count": 8,
      "outputs": [
        {
          "output_type": "execute_result",
          "data": {
            "text/plain": [
              "['decision_tree_model.h5']"
            ]
          },
          "metadata": {},
          "execution_count": 8
        }
      ]
    },
    {
      "cell_type": "markdown",
      "source": [
        "# **5. Memenuhi Kriteria Skilled dan Advanced dalam Membangun Model Klasifikasi**\n",
        "\n"
      ],
      "metadata": {
        "id": "epO4HhrzBXMg"
      }
    },
    {
      "cell_type": "markdown",
      "source": [
        "**Biarkan kosong jika tidak menerapkan kriteria skilled atau advanced**"
      ],
      "metadata": {
        "id": "DNOEZk24uiXu"
      }
    },
    {
      "cell_type": "code",
      "source": [
        "# Inisialisasi model Random Forest\n",
        "rf_model = RandomForestClassifier(random_state=42)\n",
        "\n",
        "# Latih model dengan data training\n",
        "rf_model.fit(X_train, y_train)\n",
        "\n",
        "# Prediksi data test\n",
        "y_pred_rf = rf_model.predict(X_test)\n",
        "\n",
        "# Hitung metrik evaluasi\n",
        "accuracy_rf = accuracy_score(y_test, y_pred_rf)\n",
        "precision_rf = precision_score(y_test, y_pred_rf, average='weighted')\n",
        "recall_rf = recall_score(y_test, y_pred_rf, average='weighted')\n",
        "f1_rf = f1_score(y_test, y_pred_rf, average='weighted')\n",
        "\n",
        "print(f\"Random Forest Accuracy: {accuracy_rf:.4f}\")\n",
        "print(f\"Random Forest Precision: {precision_rf:.4f}\")\n",
        "print(f\"Random Forest Recall: {recall_rf:.4f}\")\n",
        "print(f\"Random Forest F1-Score: {f1_rf:.4f}\")\n",
        "\n",
        "print(\"\\nClassification Report - Random Forest:\")\n",
        "print(classification_report(y_test, y_pred_rf))\n",
        "\n",
        "# Visualisasi Confusion Matrix\n",
        "conf_mat_rf = confusion_matrix(y_test, y_pred_rf)\n",
        "plt.figure(figsize=(6,6))\n",
        "sns.heatmap(conf_mat_rf, annot=True, fmt='d', cmap='Greens',\n",
        "            xticklabels=rf_model.classes_, yticklabels=rf_model.classes_)\n",
        "plt.xlabel('Prediksi')\n",
        "plt.ylabel('Aktual')\n",
        "plt.title('Confusion Matrix - Random Forest')\n",
        "plt.show()"
      ],
      "metadata": {
        "id": "kB_8LIWMATl6",
        "colab": {
          "base_uri": "https://localhost:8080/",
          "height": 859
        },
        "outputId": "5cf07c05-8bea-468b-b680-f4ea03ce60ff"
      },
      "execution_count": 9,
      "outputs": [
        {
          "output_type": "stream",
          "name": "stdout",
          "text": [
            "Random Forest Accuracy: 0.9742\n",
            "Random Forest Precision: 0.9749\n",
            "Random Forest Recall: 0.9742\n",
            "Random Forest F1-Score: 0.9741\n",
            "\n",
            "Classification Report - Random Forest:\n",
            "              precision    recall  f1-score   support\n",
            "\n",
            "           1       0.97      0.99      0.98       157\n",
            "           2       1.00      1.00      1.00        95\n",
            "           3       0.95      0.97      0.96       142\n",
            "           4       1.00      0.93      0.96       110\n",
            "\n",
            "    accuracy                           0.97       504\n",
            "   macro avg       0.98      0.97      0.98       504\n",
            "weighted avg       0.97      0.97      0.97       504\n",
            "\n"
          ]
        },
        {
          "output_type": "display_data",
          "data": {
            "text/plain": [
              "<Figure size 600x600 with 2 Axes>"
            ],
            "image/png": "[encoded data removed]"
          },
          "metadata": {}
        }
      ]
    },
    {
      "cell_type": "code",
      "source": [
        "# Menyimpan Model Selain Decision Tree\n",
        "# Model ini bisa lebih dari satu\n",
        "# import joblib\n",
        "# joblib.dump(___, 'explore_<Nama Algoritma>_classification.h5')\n",
        "joblib.dump(rf_model, 'explore_random_forest_classification.h5')"
      ],
      "metadata": {
        "id": "dUPItkbXBNkO",
        "colab": {
          "base_uri": "https://localhost:8080/"
        },
        "outputId": "31164488-d168-451b-b506-1b3bbf398069"
      },
      "execution_count": 10,
      "outputs": [
        {
          "output_type": "execute_result",
          "data": {
            "text/plain": [
              "['explore_random_forest_classification.h5']"
            ]
          },
          "metadata": {},
          "execution_count": 10
        }
      ]
    },
    {
      "cell_type": "markdown",
      "source": [
        "## Interpretasi Hasil Klasifikasi\n",
        "\n",
        "### Metode yang digunakan  \n",
        "- **Decision Tree Classifier**  \n",
        "- **Random Forest Classifier**  \n",
        "\n",
        "Kedua metode ini termasuk dalam kategori supervised learning yang populer untuk klasifikasi. Decision Tree memudahkan interpretasi aturan keputusan, sedangkan Random Forest menggabungkan banyak pohon keputusan untuk meningkatkan akurasi dan mengurangi overfitting.\n",
        "\n",
        "### Alasan penggunaan  \n",
        "- **Decision Tree** dipilih karena mudah diinterpretasikan dan cukup efektif pada dataset dengan fitur campuran.  \n",
        "- **Random Forest** dipilih sebagai ensemble method yang cenderung memberikan performa lebih stabil dan akurasi lebih tinggi, karena mengurangi risiko overfitting dibandingkan pohon tunggal.\n",
        "\n",
        "### Hasil yang didapat  \n",
        "- **Decision Tree** mencapai akurasi sekitar 97.22%, dengan nilai presisi, recall, dan F1-score yang konsisten menunjukkan performa yang sangat baik di semua kelas target.  \n",
        "- **Random Forest** sedikit lebih unggul dengan akurasi 97.42%, presisi 97.49%, recall 97.42%, dan F1-score 97.41%, menandakan model ini lebih stabil dan baik pada dataset ini.\n",
        "\n",
        "### Perbandingan Performa  \n",
        "- Meskipun kedua model menunjukkan performa yang sangat baik, Random Forest sedikit lebih unggul pada metrik evaluasi, terutama dalam hal presisi dan recall.  \n",
        "- Random Forest juga menunjukkan kemampuan lebih baik pada kelas target yang mungkin lebih sulit diklasifikasi, seperti kelas 4, dengan recall lebih tinggi.  \n",
        "- Model Decision Tree lebih mudah diinterpretasikan, sedangkan Random Forest cenderung memberikan hasil lebih akurat dan tahan noise.\n"
      ],
      "metadata": {
        "id": "AgGcrLOfNeL-"
      }
    },
    {
      "cell_type": "markdown",
      "source": [
        "Hyperparameter Tuning Model\n",
        "\n",
        "Pilih salah satu algoritma yang ingin Anda tuning"
      ],
      "metadata": {
        "id": "u23H2guj-h9h"
      }
    },
    {
      "cell_type": "code",
      "source": [
        "# Lakukan Hyperparameter Tuning dan Latih ulang.\n",
        "\n",
        "# Definisikan parameter grid untuk tuning Decision Tree\n",
        "param_grid = {\n",
        "    'criterion': ['gini', 'entropy'],\n",
        "    'max_depth': [None, 10, 20, 30],\n",
        "    'min_samples_split': [2, 5, 10],\n",
        "    'min_samples_leaf': [1, 2, 4]\n",
        "}\n",
        "\n",
        "# Inisialisasi GridSearchCV untuk Decision Tree\n",
        "grid_search = GridSearchCV(\n",
        "    estimator=DecisionTreeClassifier(random_state=42),\n",
        "    param_grid=param_grid,\n",
        "    cv=5,\n",
        "    scoring='accuracy',\n",
        "    n_jobs=-1\n",
        ")\n",
        "\n",
        "# Jalankan hyperparameter tuning dengan data training (X_train, y_train sudah ada)\n",
        "grid_search.fit(X_train, y_train)\n",
        "\n",
        "# Ambil model terbaik hasil tuning\n",
        "best_model_dt = grid_search.best_estimator_\n",
        "\n",
        "print(\"Best Parameters:\", grid_search.best_params_)\n",
        "print(f\"Best Cross-Validation Accuracy: {grid_search.best_score_:.4f}\")"
      ],
      "metadata": {
        "colab": {
          "base_uri": "https://localhost:8080/"
        },
        "id": "uSIWzmExObcm",
        "outputId": "dc2ada6d-1bce-4fe1-c1f7-bc36660ce0da"
      },
      "execution_count": 11,
      "outputs": [
        {
          "output_type": "stream",
          "name": "stdout",
          "text": [
            "Best Parameters: {'criterion': 'gini', 'max_depth': None, 'min_samples_leaf': 1, 'min_samples_split': 10}\n",
            "Best Cross-Validation Accuracy: 0.9732\n"
          ]
        }
      ]
    },
    {
      "cell_type": "code",
      "source": [
        "# Menampilkan hasil evaluasi akurasi, presisi, recall, dan F1-Score pada algoritma yang sudah dituning.\n",
        "\n",
        "# Evaluasi model terbaik dengan data testing\n",
        "y_pred = best_model_dt.predict(X_test)\n",
        "\n",
        "print(f\"Accuracy: {accuracy_score(y_test, y_pred):.4f}\")\n",
        "print(f\"Precision: {precision_score(y_test, y_pred, average='weighted'):.4f}\")\n",
        "print(f\"Recall: {recall_score(y_test, y_pred, average='weighted'):.4f}\")\n",
        "print(f\"F1-Score: {f1_score(y_test, y_pred, average='weighted'):.4f}\")\n",
        "\n",
        "print(\"\\nClassification Report:\")\n",
        "print(classification_report(y_test, y_pred))\n",
        "\n",
        "# Visualisasi confusion matrix\n",
        "conf_mat = confusion_matrix(y_test, y_pred)\n",
        "plt.figure(figsize=(6,6))\n",
        "sns.heatmap(conf_mat, annot=True, fmt='d', cmap='Blues',\n",
        "            xticklabels=best_model_dt.classes_, yticklabels=best_model_dt.classes_)\n",
        "plt.xlabel('Prediksi')\n",
        "plt.ylabel('Aktual')\n",
        "plt.title('Confusion Matrix - Decision Tree (Tuned)')\n",
        "plt.show()\n"
      ],
      "metadata": {
        "colab": {
          "base_uri": "https://localhost:8080/",
          "height": 859
        },
        "id": "SRJUzhbuO69Q",
        "outputId": "2c457385-2b6e-499c-e7f7-107bb62121d7"
      },
      "execution_count": 12,
      "outputs": [
        {
          "output_type": "stream",
          "name": "stdout",
          "text": [
            "Accuracy: 0.9742\n",
            "Precision: 0.9744\n",
            "Recall: 0.9742\n",
            "F1-Score: 0.9742\n",
            "\n",
            "Classification Report:\n",
            "              precision    recall  f1-score   support\n",
            "\n",
            "           1       0.96      0.98      0.97       157\n",
            "           2       1.00      1.00      1.00        95\n",
            "           3       0.97      0.96      0.97       142\n",
            "           4       0.98      0.95      0.97       110\n",
            "\n",
            "    accuracy                           0.97       504\n",
            "   macro avg       0.98      0.98      0.98       504\n",
            "weighted avg       0.97      0.97      0.97       504\n",
            "\n"
          ]
        },
        {
          "output_type": "display_data",
          "data": {
            "text/plain": [
              "<Figure size 600x600 with 2 Axes>"
            ],
            "image/png": "[encoded data removed]"
          },
          "metadata": {}
        }
      ]
    },
    {
      "cell_type": "markdown",
      "source": [
        "Interpretasi Hasil Hyperparameter Tuning Decision Tree\n",
        "Accuracy 0.9742 artinya model berhasil mengklasifikasikan dengan benar sekitar 97.4% data uji.\n",
        "\n",
        "Precision, Recall, dan F1-Score semuanya di atas 0.97, ini tanda bahwa model sangat baik dalam memprediksi kelas dengan akurat dan konsisten.\n",
        "\n",
        "Classification Report menunjukkan bahwa untuk masing-masing kelas (1 sampai 4), nilai precision, recall, dan f1-score sangat tinggi, yang berarti model tidak bias ke salah satu kelas dan mampu mengenali setiap kelas dengan baik.\n",
        "\n",
        "Hasil tuning memperbaiki performa model dibanding model dasar karena hyperparameter disesuaikan untuk optimasi.\n"
      ],
      "metadata": {
        "id": "HN-wBe97Pvt3"
      }
    },
    {
      "cell_type": "code",
      "source": [
        "# Menyimpan Model hasil tuning\n",
        "# import joblib\n",
        "# joblib.dump(model_dt, 'tuning_classification.h5')\n",
        "joblib.dump(best_model_dt, 'tuning_classification.h5')"
      ],
      "metadata": {
        "colab": {
          "base_uri": "https://localhost:8080/"
        },
        "id": "4uJ-JrbCPDj0",
        "outputId": "3ef4dabb-12ec-46a6-daa3-3a4f8788ce9e"
      },
      "execution_count": 13,
      "outputs": [
        {
          "output_type": "execute_result",
          "data": {
            "text/plain": [
              "['tuning_classification.h5']"
            ]
          },
          "metadata": {},
          "execution_count": 13
        }
      ]
    }
  ]
}